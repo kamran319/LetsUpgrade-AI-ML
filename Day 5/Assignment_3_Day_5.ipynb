{
 "cells": [
  {
   "cell_type": "code",
   "execution_count": 1,
   "metadata": {},
   "outputs": [
    {
     "name": "stdout",
     "output_type": "stream",
     "text": [
      "3\n",
      "5\n",
      "7\n",
      "11\n",
      "13\n",
      "17\n",
      "19\n"
     ]
    }
   ],
   "source": [
    "#Python program to find the first 20 non-even prime natural numbers\n",
    "for i in range(3,20):\n",
    "    for j in range(2,i):\n",
    "        if i%j==0:\n",
    "            break\n",
    "    else:\n",
    "        print(i)"
   ]
  },
  {
   "cell_type": "code",
   "execution_count": 2,
   "metadata": {},
   "outputs": [
    {
     "name": "stdout",
     "output_type": "stream",
     "text": [
      "It is great learning with Darshan Ingle sir\n",
      "IT IS GREAT LEARNING WITH DARSHAN INGLE SIR\n",
      "it is great learning with darshan ingle sir\n",
      "iT IS GREAT LEARNING WITH dARSHAN iNGLE SIR\n",
      "It is great learning with darshan ingle sir\n",
      "It is great learning with Darshan Ingle sir\n",
      "['It is great learning with Darshan Ingle sir']\n",
      "It is great learning with Darshan Ingle sir\n",
      "['It', 'is', 'great', 'learning', 'with', 'Darshan', 'Ingle', 'sir']\n",
      "It is great learning with Darshan Ingle sir\n",
      "It is great learning with Darshan Ingle sir\n",
      "False\n",
      "False\n",
      "False\n",
      "False\n",
      "False\n",
      "False\n",
      "b'It is great learning with Darshan Ingle sir'\n",
      "4\n"
     ]
    }
   ],
   "source": [
    "#Python program to implement 15 functions of string.\n",
    "str=\"It is great learning with Darshan Ingle sir\"\n",
    "print(str)\n",
    "print(str.upper())\n",
    "print(str.lower())\n",
    "print(str.swapcase())\n",
    "print(str.capitalize())\n",
    "print(str.strip())\n",
    "print(str.splitlines())\n",
    "print(str.rstrip())\n",
    "print(str.split())\n",
    "print(str.lstrip())\n",
    "print(str.rstrip())\n",
    "print(str.isupper())\n",
    "print(str.islower())\n",
    "print(str.istitle())\n",
    "print(str.isdigit())\n",
    "print(str.isalpha())\n",
    "print(str.isalnum())\n",
    "print(str.encode())\n",
    "print(str.count('a'))"
   ]
  },
  {
   "cell_type": "code",
   "execution_count": 3,
   "metadata": {},
   "outputs": [
    {
     "name": "stdout",
     "output_type": "stream",
     "text": [
      "Enter string1 : Madam\n",
      "Enter string2 : Madam\n",
      "Given string is Palindrome\n"
     ]
    }
   ],
   "source": [
    "#Write a Python program to check if the given string is a Palindrome or Anagram or None of them\n",
    "s1=input(\"Enter string1 : \")\n",
    "s2=input(\"Enter string2 : \")\n",
    "if s1==s2:\n",
    "    print(\"Given string is Palindrome\")\n",
    "elif (sorted(s1))==(sorted(s2)):\n",
    "    print(\"Given string is anagram\")\n",
    "else:\n",
    "    print(\"None of them\")\n"
   ]
  },
  {
   "cell_type": "code",
   "execution_count": 4,
   "metadata": {},
   "outputs": [
    {
     "name": "stdout",
     "output_type": "stream",
     "text": [
      "drdarshaningleaimltrainer\n"
     ]
    }
   ],
   "source": [
    "#Write a Python's user defined function that removes all the additional characters from the string and converts it finally to lower case using built-in lower()\n",
    "str=\"Dr. Darshan Ingle @AI-ML Trainer\"\n",
    "str1=str.replace(\"@\",\"\")\n",
    "str2=str1.replace(\".\",\"\")\n",
    "str3=str2.replace(\"-\",\"\")\n",
    "str4=str3.replace(\" \", \"\")\n",
    "\n",
    "print(str4.lower())\n",
    "\n"
   ]
  },
  {
   "cell_type": "code",
   "execution_count": null,
   "metadata": {},
   "outputs": [],
   "source": []
  },
  {
   "cell_type": "code",
   "execution_count": null,
   "metadata": {},
   "outputs": [],
   "source": []
  }
 ],
 "metadata": {
  "kernelspec": {
   "display_name": "Python 3",
   "language": "python",
   "name": "python3"
  },
  "language_info": {
   "codemirror_mode": {
    "name": "ipython",
    "version": 3
   },
   "file_extension": ".py",
   "mimetype": "text/x-python",
   "name": "python",
   "nbconvert_exporter": "python",
   "pygments_lexer": "ipython3",
   "version": "3.7.4"
  }
 },
 "nbformat": 4,
 "nbformat_minor": 2
}
