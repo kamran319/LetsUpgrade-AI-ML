{
 "cells": [
  {
   "cell_type": "code",
   "execution_count": 12,
   "metadata": {},
   "outputs": [
    {
     "name": "stdout",
     "output_type": "stream",
     "text": [
      "Enter the email address: Kamran@LetsUpgrade.com\n",
      "LetsUpgrade\n"
     ]
    }
   ],
   "source": [
    "#Assuming that we have some email addresses in the \"username@companyname.com\" format, please write program\n",
    "#to print the company name of a given email address. Both user names and company names are composed of letters only.\n",
    "\n",
    "email_add=input(\"Enter the email address: \")\n",
    "a,b=email_add.split(\"@\")\n",
    "c,d=b.split(\".\")\n",
    "#print(a)\n",
    "#print(b)\n",
    "print(c)\n",
    "#print(d)"
   ]
  },
  {
   "cell_type": "code",
   "execution_count": 11,
   "metadata": {},
   "outputs": [
    {
     "name": "stdout",
     "output_type": "stream",
     "text": [
      "Enter the list: without hello bag world\n",
      "['bag', 'hello', 'without', 'world']\n"
     ]
    }
   ],
   "source": [
    "#Write a program that accepts a comma-separated sequence of words as input and prints the words in a comma\n",
    "#separated sequence after sorting them alphabetically.\n",
    "list1=list(map(str,input(\"Enter the list: \").split()))\n",
    "print(sorted(list1))"
   ]
  },
  {
   "cell_type": "markdown",
   "metadata": {},
   "source": [
    "# Create your own Jupyter Notebook for Sets\n",
    "## Sets\n",
    "Set is collection of items that is enclosed in curly brackets whcih are unorderd and unindexd"
   ]
  },
  {
   "cell_type": "code",
   "execution_count": 14,
   "metadata": {},
   "outputs": [
    {
     "name": "stdout",
     "output_type": "stream",
     "text": [
      "{'Machine Learning', 'Kamran', 'Deep Learning', 'Mohammed'}\n"
     ]
    }
   ],
   "source": [
    "set={\"Mohammed\",\"Kamran\",\"Machine Learning\",\"Deep Learning\"}\n",
    "print(set)"
   ]
  },
  {
   "cell_type": "code",
   "execution_count": 17,
   "metadata": {},
   "outputs": [
    {
     "name": "stdout",
     "output_type": "stream",
     "text": [
      "Machine Learning,Kamran,Deep Learning,Mohammed,"
     ]
    }
   ],
   "source": [
    "# To access any element in the list\n",
    "set={\"Mohammed\",\"Kamran\",\"Machine Learning\",\"Deep Learning\"}\n",
    "for i in set:\n",
    "    print(i, end=\",\")"
   ]
  },
  {
   "cell_type": "code",
   "execution_count": 19,
   "metadata": {},
   "outputs": [
    {
     "name": "stdout",
     "output_type": "stream",
     "text": [
      "True\n"
     ]
    }
   ],
   "source": [
    "#to check any element is present in the list\n",
    "set={\"Mohammed\",\"Kamran\",\"Machine Learning\",\"Deep Learning\"}\n",
    "print('Kamran' in set)"
   ]
  },
  {
   "cell_type": "code",
   "execution_count": 20,
   "metadata": {},
   "outputs": [
    {
     "name": "stdout",
     "output_type": "stream",
     "text": [
      "{'Mohammed', 'Machine Learning', 'Deep Learning', 'LetsUpgrade', 'Kamran'}\n"
     ]
    }
   ],
   "source": [
    "# once the element is added to the set it cannot be changed but we can add the elements by using add()\n",
    "#to check any element is present in the list\n",
    "set={\"Mohammed\",\"Kamran\",\"Machine Learning\",\"Deep Learning\"}\n",
    "set.add(\"LetsUpgrade\")\n",
    "print(set)"
   ]
  },
  {
   "cell_type": "code",
   "execution_count": 23,
   "metadata": {},
   "outputs": [
    {
     "name": "stdout",
     "output_type": "stream",
     "text": [
      "{'LU', 'Mohammed', 'Machine Learning', 'Deep Learning', 'Sai sir', 'LetsUpgrade', 'Kamran', 'Dinesh Sir'}\n"
     ]
    }
   ],
   "source": [
    "#To add multile elements to the test\n",
    "set={\"Mohammed\",\"Kamran\",\"Machine Learning\",\"Deep Learning\"}\n",
    "set.update([\"LU\",\"LetsUpgrade\",\"Dinesh Sir\",\"Sai sir\"])\n",
    "print(set)"
   ]
  },
  {
   "cell_type": "code",
   "execution_count": 26,
   "metadata": {},
   "outputs": [
    {
     "name": "stdout",
     "output_type": "stream",
     "text": [
      "{'Mohammed', 'Machine Learning', 'Deep Learning', 'Sai sir', 'LetsUpgrade', 'Kamran', 'Dinesh Sir'}\n",
      "7\n"
     ]
    }
   ],
   "source": [
    "#To remove the elements from the set\n",
    "set={'LU', 'Mohammed', 'Machine Learning', 'Deep Learning', 'Sai sir', 'LetsUpgrade', 'Kamran', 'Dinesh Sir'}\n",
    "set.remove(\"LU\")\n",
    "print(set)\n",
    "print(len(set))"
   ]
  },
  {
   "cell_type": "code",
   "execution_count": 9,
   "metadata": {},
   "outputs": [
    {
     "name": "stdout",
     "output_type": "stream",
     "text": [
      "3.0\n"
     ]
    }
   ],
   "source": [
    "#Given a list of n-1 numbers ranging from 1 to n, your task is to find the missing number. There are no duplicates\n",
    "def getMissingNo(A): \n",
    "    n = len(A) \n",
    "    total = (n + 1)*(n + 2)/2\n",
    "    sum_of_A = sum(A) \n",
    "    return total - sum_of_A \n",
    "A = [1, 2, 4, 5, 6] \n",
    "miss = getMissingNo(A) \n",
    "print(miss) "
   ]
  },
  {
   "cell_type": "code",
   "execution_count": 13,
   "metadata": {},
   "outputs": [
    {
     "name": "stdout",
     "output_type": "stream",
     "text": [
      "[12, 24, 35, 88, 120, 155]\n"
     ]
    }
   ],
   "source": [
    "#With a given list L, write a program to print this list L after removing all duplicate values with original order reserved\n",
    "def Remove(duplicate): \n",
    "    list = [] \n",
    "    for i in duplicate: \n",
    "        if i not in list: \n",
    "            list.append(i) \n",
    "    return list \n",
    "\n",
    "duplicate = [12,24,35,24,88,120,155,88,120,155] \n",
    "print(Remove(duplicate))"
   ]
  },
  {
   "cell_type": "code",
   "execution_count": null,
   "metadata": {},
   "outputs": [],
   "source": []
  }
 ],
 "metadata": {
  "kernelspec": {
   "display_name": "Python 3",
   "language": "python",
   "name": "python3"
  },
  "language_info": {
   "codemirror_mode": {
    "name": "ipython",
    "version": 3
   },
   "file_extension": ".py",
   "mimetype": "text/x-python",
   "name": "python",
   "nbconvert_exporter": "python",
   "pygments_lexer": "ipython3",
   "version": "3.7.4"
  }
 },
 "nbformat": 4,
 "nbformat_minor": 2
}
