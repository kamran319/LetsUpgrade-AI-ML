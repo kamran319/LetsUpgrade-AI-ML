{
 "cells": [
  {
   "cell_type": "code",
   "execution_count": 1,
   "metadata": {},
   "outputs": [
    {
     "name": "stdout",
     "output_type": "stream",
     "text": [
      "(5+1j) (-1+11j) (36+8j) (-0.7058823529411765+0.8235294117647058j)\n"
     ]
    }
   ],
   "source": [
    "#Based on your study, implement a Python program to demonstrate these operations.\n",
    "num1 = 2+6j\n",
    "num2 = 3-5j\n",
    "addition = num1 + num2\n",
    "subtraction = num1-num2\n",
    "multiplication = num1*num2\n",
    "division = num1/num2\n",
    "#floor_division = (num1)//(num2)\n",
    "#modulus = (num1)%(num2)\n",
    "print(addition,subtraction,multiplication,division)\n",
    "# cant perform floor_division and modulus operations on complex numbers"
   ]
  },
  {
   "cell_type": "code",
   "execution_count": 2,
   "metadata": {},
   "outputs": [],
   "source": [
    "#Research on range() functions and its parameters"
   ]
  },
  {
   "cell_type": "markdown",
   "metadata": {},
   "source": [
    "# Range()\n",
    "___It is a built-in function used to perform operation only on positive integer, which by default starts from 0 unless the lower bond is specified specifically and then the value increments by + 1___"
   ]
  },
  {
   "cell_type": "code",
   "execution_count": 3,
   "metadata": {},
   "outputs": [
    {
     "name": "stdout",
     "output_type": "stream",
     "text": [
      "0\n",
      "1\n",
      "2\n",
      "3\n",
      "4\n",
      "5\n",
      "6\n",
      "7\n",
      "8\n",
      "9\n"
     ]
    }
   ],
   "source": [
    "#Implement a small program of your choice using range function.\n",
    "for i in range(10):\n",
    "    print(i)"
   ]
  },
  {
   "cell_type": "code",
   "execution_count": 4,
   "metadata": {},
   "outputs": [
    {
     "name": "stdout",
     "output_type": "stream",
     "text": [
      "The multiplication is 500\n"
     ]
    }
   ],
   "source": [
    "#Consider two numbers. Perform their subtraction and if the result of subtraction is greater than 25,  print their multiplication result else print their division result\n",
    "num1 = 50\n",
    "num2 = 10\n",
    "subtraction = num1-num2\n",
    "if subtraction>25:\n",
    "    print(\"The multiplication is\", num1*num2)\n",
    "else:\n",
    "    print(\"The division is\",num1/num2)"
   ]
  },
  {
   "cell_type": "code",
   "execution_count": 5,
   "metadata": {},
   "outputs": [
    {
     "name": "stdout",
     "output_type": "stream",
     "text": [
      "The number divisible by 2 is 2\n",
      "The sqaure of the number 2 minus 2 is 2\n",
      "The number divisible by 2 is 4\n",
      "The sqaure of the number 4 minus 2 is 14\n",
      "The number divisible by 2 is 6\n",
      "The sqaure of the number 6 minus 2 is 34\n",
      "The number divisible by 2 is 8\n",
      "The sqaure of the number 8 minus 2 is 62\n",
      "The number divisible by 2 is 10\n",
      "The sqaure of the number 10 minus 2 is 98\n"
     ]
    }
   ],
   "source": [
    "#Consider a list of 10 elements of integer values. If the number in the list is divisible by 2, print the result as \"square of that number minus 2\".\n",
    "list = [1,2,3,4,5,6,7,8,9,10]\n",
    "for i in list:\n",
    "    if i%2==0:\n",
    "        print(\"The number divisible by 2 is\",i)\n",
    "        print(\"The sqaure of the number\" ,i,\"minus 2 is\",(i**2) - 2)"
   ]
  },
  {
   "cell_type": "code",
   "execution_count": 6,
   "metadata": {},
   "outputs": [
    {
     "name": "stdout",
     "output_type": "stream",
     "text": [
      "8\n",
      "10\n",
      "12\n",
      "22\n",
      "42\n",
      "14\n"
     ]
    }
   ],
   "source": [
    "#Consider a list of 10 elements. Print all the elements in the list which are greater than 7 when that number is divided 2.\n",
    "list = [1,2,7,8,10,12,22,42,14,4]\n",
    "for i in list:\n",
    "    if i>7 and i%2==0:\n",
    "        print(i)"
   ]
  },
  {
   "cell_type": "code",
   "execution_count": null,
   "metadata": {},
   "outputs": [],
   "source": []
  }
 ],
 "metadata": {
  "kernelspec": {
   "display_name": "Python 3",
   "language": "python",
   "name": "python3"
  },
  "language_info": {
   "codemirror_mode": {
    "name": "ipython",
    "version": 3
   },
   "file_extension": ".py",
   "mimetype": "text/x-python",
   "name": "python",
   "nbconvert_exporter": "python",
   "pygments_lexer": "ipython3",
   "version": "3.7.4"
  }
 },
 "nbformat": 4,
 "nbformat_minor": 2
}
