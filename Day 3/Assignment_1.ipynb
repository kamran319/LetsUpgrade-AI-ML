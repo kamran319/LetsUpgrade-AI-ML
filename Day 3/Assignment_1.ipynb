{
 "cells": [
  {
   "cell_type": "code",
   "execution_count": 1,
   "metadata": {},
   "outputs": [
    {
     "name": "stdout",
     "output_type": "stream",
     "text": [
      "Subtraction of (3+6j) and (10+7j) is (-7-1j)\n"
     ]
    }
   ],
   "source": [
    "# program to subtract two complex numbers in python\n",
    "num1 = 3+6j\n",
    "num2 = 10+7j\n",
    "Subtract = num1-num2\n",
    "print('Subtraction of',num1, 'and' ,num2, 'is', Subtract)"
   ]
  },
  {
   "cell_type": "code",
   "execution_count": 2,
   "metadata": {},
   "outputs": [
    {
     "name": "stdout",
     "output_type": "stream",
     "text": [
      "1.681792830507429\n"
     ]
    }
   ],
   "source": [
    "#program to find the fourth root of a number\n",
    "num = 8\n",
    "fourth_root = num**(1/4)\n",
    "print(fourth_root)"
   ]
  },
  {
   "cell_type": "code",
   "execution_count": 3,
   "metadata": {},
   "outputs": [
    {
     "name": "stdout",
     "output_type": "stream",
     "text": [
      "8 6\n"
     ]
    }
   ],
   "source": [
    "#program to swap two numbers in Python with the help of a temporary variable\n",
    "num1 = 6\n",
    "num2 = 8\n",
    "num3 = num1\n",
    "num1 = num2\n",
    "num2 = num3\n",
    "print(num1, num2)"
   ]
  },
  {
   "cell_type": "code",
   "execution_count": 4,
   "metadata": {},
   "outputs": [
    {
     "name": "stdout",
     "output_type": "stream",
     "text": [
      "8 6\n"
     ]
    }
   ],
   "source": [
    "#program to swap two numbers in Python without using a temporary variable.\n",
    "num1 = 6\n",
    "num2 = 8\n",
    "num1,num2 = num2, num1\n",
    "print(num1,num2)"
   ]
  },
  {
   "cell_type": "code",
   "execution_count": 5,
   "metadata": {},
   "outputs": [
    {
     "name": "stdout",
     "output_type": "stream",
     "text": [
      "296 , 73.4\n"
     ]
    }
   ],
   "source": [
    "#program to convert fahrenheit to kelvin and celsius both\n",
    "celsius = 23\n",
    "kelvin = celsius + 273\n",
    "fahrenheit = celsius * (18/10) + 32\n",
    "print(kelvin, ',' ,fahrenheit)"
   ]
  },
  {
   "cell_type": "code",
   "execution_count": 6,
   "metadata": {},
   "outputs": [
    {
     "name": "stdout",
     "output_type": "stream",
     "text": [
      "<class 'int'>\n",
      "<class 'str'>\n",
      "<class 'float'>\n",
      "<class 'list'>\n",
      "<class 'tuple'>\n"
     ]
    }
   ],
   "source": [
    "#program to demonstrate all the available data types in Python\n",
    "a=5\n",
    "b='LetsUpgrade'\n",
    "c=56.36\n",
    "d=[1,2,3,4,5,6,'LetsUpgrade',53.06]\n",
    "e=(10,20,30,40,50,60,'Kamran')\n",
    "print(type(a))\n",
    "print(type(b))\n",
    "print(type(c))\n",
    "print(type(d))\n",
    "print(type(e))"
   ]
  },
  {
   "cell_type": "code",
   "execution_count": 7,
   "metadata": {},
   "outputs": [],
   "source": [
    "#Create a Markdown cell in jupyter and list the steps discussed in the session by Dr. Darshan"
   ]
  },
  {
   "cell_type": "markdown",
   "metadata": {},
   "source": [
    "# Steps for uploading the assignment on Github\n",
    "1. Sign-in or Sign-up for Github.\n",
    "2. Create your repository-LetsUpgrade-AI-ML.\n",
    "   Homepage->New->Give Repository name->Add Description->Select Public->Click on Create repository\n",
    "3. Go to LetsUpgrade-AI-ML repository, drag your respective folder(ex: Day-3) and check whether it is uploaded successfully, then click on commit changes.\n",
    "4. Copy the link/url, then go to the letsUpgrade assignment link, paste the link and submit."
   ]
  },
  {
   "cell_type": "code",
   "execution_count": null,
   "metadata": {},
   "outputs": [],
   "source": []
  }
 ],
 "metadata": {
  "kernelspec": {
   "display_name": "Python 3",
   "language": "python",
   "name": "python3"
  },
  "language_info": {
   "codemirror_mode": {
    "name": "ipython",
    "version": 3
   },
   "file_extension": ".py",
   "mimetype": "text/x-python",
   "name": "python",
   "nbconvert_exporter": "python",
   "pygments_lexer": "ipython3",
   "version": "3.7.4"
  }
 },
 "nbformat": 4,
 "nbformat_minor": 2
}
